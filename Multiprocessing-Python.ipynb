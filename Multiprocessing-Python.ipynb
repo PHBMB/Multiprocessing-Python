{
 "cells": [
  {
   "cell_type": "markdown",
   "id": "2b600f20-3566-4821-8d37-a21024997ce1",
   "metadata": {},
   "source": [
    "<h1>Multiprocessing</h1>"
   ]
  },
  {
   "cell_type": "markdown",
   "id": "bc05dd89-7976-40d9-92cd-d38a97f2ab24",
   "metadata": {},
   "source": [
    "# The old way"
   ]
  },
  {
   "cell_type": "code",
   "execution_count": 11,
   "id": "6b9fb976-3303-4d74-8ec5-f7cb341d5ce4",
   "metadata": {},
   "outputs": [],
   "source": [
    "import multiprocessing\n",
    "import time"
   ]
  },
  {
   "cell_type": "code",
   "execution_count": 12,
   "id": "30290830-5845-4f06-8360-b0c44017346f",
   "metadata": {},
   "outputs": [],
   "source": [
    "start = time.perf_counter()"
   ]
  },
  {
   "cell_type": "code",
   "execution_count": 13,
   "id": "035153cf-15fd-467d-90a4-b17485ea7a30",
   "metadata": {},
   "outputs": [],
   "source": [
    "def do_sleep(seconds: int):\n",
    "    print(\"Start\")\n",
    "    print(f\"Sleeping for {seconds} second\")\n",
    "    time.sleep(10)\n",
    "    print(\"Done\")\n",
    "    return(\"Done Sleeping\")"
   ]
  },
  {
   "cell_type": "code",
   "execution_count": 4,
   "id": "d4bd1aa7-dd0e-4a2e-bc16-8923f4beb7db",
   "metadata": {},
   "outputs": [],
   "source": [
    "processes = []"
   ]
  },
  {
   "cell_type": "code",
   "execution_count": 5,
   "id": "0ce79d8c-dbf9-4260-9591-d3f300a904c7",
   "metadata": {},
   "outputs": [],
   "source": [
    "for _ in range(100):\n",
    "    p = multiprocessing.Process(target=do_sleep, args=[1.5])\n",
    "    p.start()\n",
    "    processes.append(p)\n",
    "    \n",
    "for process in processes:\n",
    "    process.join()"
   ]
  },
  {
   "cell_type": "code",
   "execution_count": 6,
   "id": "5b10dfc0-9ae3-4caf-99f5-af6d08ca3948",
   "metadata": {},
   "outputs": [],
   "source": [
    "finish = time.perf_counter()"
   ]
  },
  {
   "cell_type": "code",
   "execution_count": 7,
   "id": "8dec4f58-9309-4969-bc47-382f36990ceb",
   "metadata": {},
   "outputs": [
    {
     "name": "stdout",
     "output_type": "stream",
     "text": [
      "Finished in 0.93 seconds\n"
     ]
    }
   ],
   "source": [
    "print(f\"Finished in {round(finish-start, 2)} seconds\")"
   ]
  }
 ],
 "metadata": {
  "kernelspec": {
   "display_name": "Python 3",
   "language": "python",
   "name": "python3"
  },
  "language_info": {
   "codemirror_mode": {
    "name": "ipython",
    "version": 3
   },
   "file_extension": ".py",
   "mimetype": "text/x-python",
   "name": "python",
   "nbconvert_exporter": "python",
   "pygments_lexer": "ipython3",
   "version": "3.9.1"
  }
 },
 "nbformat": 4,
 "nbformat_minor": 5
}
